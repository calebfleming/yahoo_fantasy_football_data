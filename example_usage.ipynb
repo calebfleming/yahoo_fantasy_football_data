{
 "cells": [
  {
   "cell_type": "code",
   "execution_count": 2,
   "metadata": {},
   "outputs": [],
   "source": [
    "import os\n",
    "os.chdir('dir_containing_ffb_modular')\n",
    "\n",
    "import pandas as pd\n",
    "import ffb_modular"
   ]
  },
  {
   "cell_type": "markdown",
   "metadata": {},
   "source": [
    "# get stats for first week, 2019"
   ]
  },
  {
   "cell_type": "code",
   "execution_count": 3,
   "metadata": {},
   "outputs": [
    {
     "name": "stdout",
     "output_type": "stream",
     "text": [
      "Enter verifier : gvf64p8\n"
     ]
    }
   ],
   "source": [
    "# get full 2019 season\n",
    "base = ffb_modular.get_results(year=2019, maxweek=1)"
   ]
  },
  {
   "cell_type": "code",
   "execution_count": 4,
   "metadata": {},
   "outputs": [
    {
     "name": "stdout",
     "output_type": "stream",
     "text": [
      "standings retrieved\n",
      "scores retrieved\n",
      "teams retrieved\n",
      "draft results retrieved\n",
      "rosters retrieved\n",
      "chunkDone moving on\n",
      "chunkDone moving on\n",
      "chunkDone moving on\n",
      "chunkDone moving on\n",
      "chunkDone moving on\n",
      "chunkDone moving on\n",
      "chunkDone moving on\n",
      "chunkDone moving on\n",
      "players retrieved\n"
     ]
    }
   ],
   "source": [
    "standings, scores, teams, rosters, draft_results, players = base.full_pull()"
   ]
  },
  {
   "cell_type": "code",
   "execution_count": 5,
   "metadata": {},
   "outputs": [],
   "source": [
    "cl = ffb_modular.get_cleaned(standings, scores, teams, rosters, draft_results, players)"
   ]
  },
  {
   "cell_type": "code",
   "execution_count": 6,
   "metadata": {
    "scrolled": true
   },
   "outputs": [],
   "source": [
    "df = cl.cleanse_data()"
   ]
  },
  {
   "cell_type": "code",
   "execution_count": 7,
   "metadata": {},
   "outputs": [
    {
     "data": {
      "text/plain": [
       "Index(['bye_week', 'manager', 'pos', 'week', 'player_name_y',\n",
       "       'player_team_name', 'points', 'draftGrade', 'moves', 'owner',\n",
       "       'percentage', 'playoff_seed', 'points_against', 'points_for', 'rank',\n",
       "       'trades', 'leagueYear', 'total_weeks_owned', 'game_reference',\n",
       "       'is_consolation', 'is_playoffs', 'actual_points', 'proj_points',\n",
       "       'owner_opponent', 'gameResult', 'pick', 'round', 'draftedBy',\n",
       "       '2-Point Conversions', 'Block Kick', 'Extra Point Returned',\n",
       "       'Field Goals 0-19 Yards', 'Field Goals 20-29 Yards',\n",
       "       'Field Goals 30-39 Yards', 'Field Goals 40-49 Yards',\n",
       "       'Field Goals 50+ Yards', 'Fumble Recovery', 'Fumbles Lost',\n",
       "       'Interception', 'Interceptions', 'Kickoff and Punt Return Touchdowns',\n",
       "       'Offensive Fumble Return TD', 'Passing Touchdowns', 'Passing Yards',\n",
       "       'Point After Attempt Made', 'Points Allowed', 'Points Allowed 0 points',\n",
       "       'Points Allowed 1-6 points', 'Points Allowed 14-20 points',\n",
       "       'Points Allowed 21-27 points', 'Points Allowed 28-34 points',\n",
       "       'Points Allowed 35+ points', 'Points Allowed 7-13 points',\n",
       "       'Receiving Touchdowns', 'Receiving Yards', 'Receptions',\n",
       "       'Return Touchdowns', 'Rushing Attempts', 'Rushing Touchdowns',\n",
       "       'Rushing Yards', 'Sack', 'Safety', 'Targets', 'Touchdown'],\n",
       "      dtype='object')"
      ]
     },
     "execution_count": 7,
     "metadata": {},
     "output_type": "execute_result"
    }
   ],
   "source": [
    "df.columns"
   ]
  },
  {
   "cell_type": "code",
   "execution_count": 9,
   "metadata": {},
   "outputs": [
    {
     "data": {
      "text/plain": [
       "(182, 64)"
      ]
     },
     "execution_count": 9,
     "metadata": {},
     "output_type": "execute_result"
    }
   ],
   "source": [
    "df.shape"
   ]
  },
  {
   "cell_type": "markdown",
   "metadata": {},
   "source": [
    "# get points by draft position"
   ]
  },
  {
   "cell_type": "code",
   "execution_count": 11,
   "metadata": {},
   "outputs": [],
   "source": [
    "pds = cl.get_points_by_draft_slot()"
   ]
  },
  {
   "cell_type": "code",
   "execution_count": 12,
   "metadata": {},
   "outputs": [
    {
     "data": {
      "text/html": [
       "<div>\n",
       "<style scoped>\n",
       "    .dataframe tbody tr th:only-of-type {\n",
       "        vertical-align: middle;\n",
       "    }\n",
       "\n",
       "    .dataframe tbody tr th {\n",
       "        vertical-align: top;\n",
       "    }\n",
       "\n",
       "    .dataframe thead th {\n",
       "        text-align: right;\n",
       "    }\n",
       "</style>\n",
       "<table border=\"1\" class=\"dataframe\">\n",
       "  <thead>\n",
       "    <tr style=\"text-align: right;\">\n",
       "      <th></th>\n",
       "      <th>round</th>\n",
       "      <th>pick</th>\n",
       "      <th>week</th>\n",
       "      <th>points</th>\n",
       "      <th>player_name_y</th>\n",
       "    </tr>\n",
       "  </thead>\n",
       "  <tbody>\n",
       "    <tr>\n",
       "      <th>34</th>\n",
       "      <td>1</td>\n",
       "      <td>1</td>\n",
       "      <td>1</td>\n",
       "      <td>15.9</td>\n",
       "      <td>Saquon Barkley</td>\n",
       "    </tr>\n",
       "    <tr>\n",
       "      <th>18</th>\n",
       "      <td>1</td>\n",
       "      <td>2</td>\n",
       "      <td>1</td>\n",
       "      <td>37.9</td>\n",
       "      <td>Christian McCaffrey</td>\n",
       "    </tr>\n",
       "    <tr>\n",
       "      <th>80</th>\n",
       "      <td>1</td>\n",
       "      <td>3</td>\n",
       "      <td>1</td>\n",
       "      <td>20.4</td>\n",
       "      <td>Alvin Kamara</td>\n",
       "    </tr>\n",
       "    <tr>\n",
       "      <th>155</th>\n",
       "      <td>1</td>\n",
       "      <td>4</td>\n",
       "      <td>1</td>\n",
       "      <td>10.0</td>\n",
       "      <td>Nick Chubb</td>\n",
       "    </tr>\n",
       "    <tr>\n",
       "      <th>125</th>\n",
       "      <td>1</td>\n",
       "      <td>5</td>\n",
       "      <td>1</td>\n",
       "      <td>22.7</td>\n",
       "      <td>David Johnson</td>\n",
       "    </tr>\n",
       "  </tbody>\n",
       "</table>\n",
       "</div>"
      ],
      "text/plain": [
       "     round  pick  week  points        player_name_y\n",
       "34       1     1     1    15.9       Saquon Barkley\n",
       "18       1     2     1    37.9  Christian McCaffrey\n",
       "80       1     3     1    20.4         Alvin Kamara\n",
       "155      1     4     1    10.0           Nick Chubb\n",
       "125      1     5     1    22.7        David Johnson"
      ]
     },
     "execution_count": 12,
     "metadata": {},
     "output_type": "execute_result"
    }
   ],
   "source": [
    "pds.head()"
   ]
  }
 ],
 "metadata": {
  "kernelspec": {
   "display_name": "Python 3",
   "language": "python",
   "name": "python3"
  },
  "language_info": {
   "codemirror_mode": {
    "name": "ipython",
    "version": 3
   },
   "file_extension": ".py",
   "mimetype": "text/x-python",
   "name": "python",
   "nbconvert_exporter": "python",
   "pygments_lexer": "ipython3",
   "version": "3.7.4"
  }
 },
 "nbformat": 4,
 "nbformat_minor": 2
}
