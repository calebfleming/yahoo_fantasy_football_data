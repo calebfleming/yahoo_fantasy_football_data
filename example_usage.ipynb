{
 "cells": [
  {
   "cell_type": "code",
   "execution_count": 16,
   "metadata": {},
   "outputs": [
    {
     "data": {
      "text/plain": [
       "<module 'ffb_modular' from '/Users/caleb/Desktop/yahoo_fantasy_football_data/ffb_modular.py'>"
      ]
     },
     "execution_count": 16,
     "metadata": {},
     "output_type": "execute_result"
    }
   ],
   "source": [
    "import os\n",
    "#os.chdir('dir_containing_ffb_modular')\n",
    "\n",
    "import pandas as pd\n",
    "import ffb_modular\n",
    "\n",
    "import importlib\n",
    "importlib.reload(ffb_modular)"
   ]
  },
  {
   "cell_type": "markdown",
   "metadata": {},
   "source": [
    "# get stats for first week, 2019"
   ]
  },
  {
   "cell_type": "code",
   "execution_count": 17,
   "metadata": {},
   "outputs": [
    {
     "name": "stderr",
     "output_type": "stream",
     "text": [
      "[2020-09-10 12:37:18,081 DEBUG] [yahoo_oauth.oauth.handler] AUTHORISATION URL : https://api.login.yahoo.com/oauth2/request_auth?redirect_uri=oob&response_type=code&client_id=dj0yJmk9V2pHOTZMNHJMYlJIJmQ9WVdrOVYwTmxTV3MwTkRRbWNHbzlNQS0tJnM9Y29uc3VtZXJzZWNyZXQmeD01NA--\n"
     ]
    },
    {
     "name": "stdout",
     "output_type": "stream",
     "text": [
      "Enter verifier : bhxr9rr\n"
     ]
    }
   ],
   "source": [
    "# get full 2019 season\n",
    "base = ffb_modular.get_results(year=2018, maxweek=16)"
   ]
  },
  {
   "cell_type": "code",
   "execution_count": 18,
   "metadata": {},
   "outputs": [
    {
     "name": "stdout",
     "output_type": "stream",
     "text": [
      "standings retrieved\n",
      "scores retrieved\n",
      "teams retrieved\n",
      "draft results retrieved\n",
      "rosters retrieved\n"
     ]
    }
   ],
   "source": [
    "standings, scores, teams, rosters, draft_results = base.part_one_pull()"
   ]
  },
  {
   "cell_type": "code",
   "execution_count": null,
   "metadata": {},
   "outputs": [
    {
     "name": "stdout",
     "output_type": "stream",
     "text": [
      "chunkDone moving on\n",
      "chunkDone moving on\n",
      "chunkDone moving on\n",
      "chunkDone moving on\n",
      "chunkDone moving on\n",
      "chunkDone moving on\n",
      "chunkDone moving on\n",
      "chunkDone moving on\n",
      "chunkDone moving on\n",
      "Ratelimited -- starting backoff\n",
      "Sleeping 1 seconds\n",
      "Sleeping 5 seconds\n",
      "Sleeping 25 seconds\n",
      "Sleeping 125 seconds\n",
      "Sleeping 625 seconds\n"
     ]
    }
   ],
   "source": [
    "# this is separate because sometimes there are ratelimiting issues getting player data\n",
    "players = base.part_two_pull(rosters)"
   ]
  },
  {
   "cell_type": "code",
   "execution_count": null,
   "metadata": {
    "collapsed": true
   },
   "outputs": [],
   "source": [
    "cl = ffb_modular.get_cleaned(standings, scores, teams, rosters, draft_results, players)"
   ]
  },
  {
   "cell_type": "code",
   "execution_count": null,
   "metadata": {
    "collapsed": true,
    "scrolled": true
   },
   "outputs": [],
   "source": [
    "df = cl.cleanse_data()"
   ]
  },
  {
   "cell_type": "code",
   "execution_count": null,
   "metadata": {
    "collapsed": true
   },
   "outputs": [],
   "source": [
    "df.columns"
   ]
  },
  {
   "cell_type": "code",
   "execution_count": null,
   "metadata": {
    "collapsed": true
   },
   "outputs": [],
   "source": [
    "df.shape"
   ]
  },
  {
   "cell_type": "code",
   "execution_count": null,
   "metadata": {
    "collapsed": true
   },
   "outputs": [],
   "source": [
    "df.to_csv('fulljoined_18_wstats.csv', index=False)"
   ]
  },
  {
   "cell_type": "markdown",
   "metadata": {},
   "source": [
    "# get points by draft position"
   ]
  },
  {
   "cell_type": "code",
   "execution_count": 11,
   "metadata": {
    "collapsed": true
   },
   "outputs": [],
   "source": [
    "pds = cl.get_points_by_draft_slot()"
   ]
  },
  {
   "cell_type": "code",
   "execution_count": 12,
   "metadata": {},
   "outputs": [
    {
     "data": {
      "text/html": [
       "<div>\n",
       "<style scoped>\n",
       "    .dataframe tbody tr th:only-of-type {\n",
       "        vertical-align: middle;\n",
       "    }\n",
       "\n",
       "    .dataframe tbody tr th {\n",
       "        vertical-align: top;\n",
       "    }\n",
       "\n",
       "    .dataframe thead th {\n",
       "        text-align: right;\n",
       "    }\n",
       "</style>\n",
       "<table border=\"1\" class=\"dataframe\">\n",
       "  <thead>\n",
       "    <tr style=\"text-align: right;\">\n",
       "      <th></th>\n",
       "      <th>round</th>\n",
       "      <th>pick</th>\n",
       "      <th>week</th>\n",
       "      <th>points</th>\n",
       "      <th>player_name_y</th>\n",
       "    </tr>\n",
       "  </thead>\n",
       "  <tbody>\n",
       "    <tr>\n",
       "      <th>34</th>\n",
       "      <td>1</td>\n",
       "      <td>1</td>\n",
       "      <td>1</td>\n",
       "      <td>15.9</td>\n",
       "      <td>Saquon Barkley</td>\n",
       "    </tr>\n",
       "    <tr>\n",
       "      <th>18</th>\n",
       "      <td>1</td>\n",
       "      <td>2</td>\n",
       "      <td>1</td>\n",
       "      <td>37.9</td>\n",
       "      <td>Christian McCaffrey</td>\n",
       "    </tr>\n",
       "    <tr>\n",
       "      <th>80</th>\n",
       "      <td>1</td>\n",
       "      <td>3</td>\n",
       "      <td>1</td>\n",
       "      <td>20.4</td>\n",
       "      <td>Alvin Kamara</td>\n",
       "    </tr>\n",
       "    <tr>\n",
       "      <th>155</th>\n",
       "      <td>1</td>\n",
       "      <td>4</td>\n",
       "      <td>1</td>\n",
       "      <td>10.0</td>\n",
       "      <td>Nick Chubb</td>\n",
       "    </tr>\n",
       "    <tr>\n",
       "      <th>125</th>\n",
       "      <td>1</td>\n",
       "      <td>5</td>\n",
       "      <td>1</td>\n",
       "      <td>22.7</td>\n",
       "      <td>David Johnson</td>\n",
       "    </tr>\n",
       "  </tbody>\n",
       "</table>\n",
       "</div>"
      ],
      "text/plain": [
       "     round  pick  week  points        player_name_y\n",
       "34       1     1     1    15.9       Saquon Barkley\n",
       "18       1     2     1    37.9  Christian McCaffrey\n",
       "80       1     3     1    20.4         Alvin Kamara\n",
       "155      1     4     1    10.0           Nick Chubb\n",
       "125      1     5     1    22.7        David Johnson"
      ]
     },
     "execution_count": 12,
     "metadata": {},
     "output_type": "execute_result"
    }
   ],
   "source": [
    "pds.head()"
   ]
  }
 ],
 "metadata": {
  "kernelspec": {
   "display_name": "Python 3",
   "language": "python",
   "name": "python3"
  },
  "language_info": {
   "codemirror_mode": {
    "name": "ipython",
    "version": 3
   },
   "file_extension": ".py",
   "mimetype": "text/x-python",
   "name": "python",
   "nbconvert_exporter": "python",
   "pygments_lexer": "ipython3",
   "version": "3.8.3"
  }
 },
 "nbformat": 4,
 "nbformat_minor": 2
}
