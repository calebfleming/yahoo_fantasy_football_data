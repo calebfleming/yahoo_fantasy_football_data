{
 "cells": [
  {
   "cell_type": "code",
   "execution_count": 7,
   "metadata": {
    "collapsed": true
   },
   "outputs": [],
   "source": [
    "import os\n",
    "import pandas as pd\n",
    "import numpy as np\n",
    "from yahoo_oauth import OAuth2\n",
    "import yaml\n",
    "import xmltodict"
   ]
  },
  {
   "cell_type": "code",
   "execution_count": 5,
   "metadata": {},
   "outputs": [
    {
     "name": "stderr",
     "output_type": "stream",
     "text": [
      "[2020-09-15 12:04:49,893 DEBUG] [yahoo_oauth.oauth.handler] AUTHORISATION URL : https://api.login.yahoo.com/oauth2/request_auth?redirect_uri=oob&response_type=code&client_id=dj0yJmk9V2pHOTZMNHJMYlJIJmQ9WVdrOVYwTmxTV3MwTkRRbWNHbzlNQS0tJnM9Y29uc3VtZXJzZWNyZXQmeD01NA--\n"
     ]
    },
    {
     "name": "stdout",
     "output_type": "stream",
     "text": [
      "Enter verifier : wv8754n\n"
     ]
    }
   ],
   "source": [
    "# manually get creds\n",
    "with open(\"yahoo_creds.yaml\", 'r') as yahoo_creds:\n",
    "    creds = yaml.safe_load(yahoo_creds)\n",
    "\n",
    "with open(\"yahoo_leagues.yaml\", 'r') as yahoo_leagues:\n",
    "    leagues = yaml.safe_load(yahoo_leagues)\n",
    "\n",
    "oauth = OAuth2(creds['key'], creds['secret'])\n",
    "guid = oauth.guid"
   ]
  },
  {
   "cell_type": "code",
   "execution_count": 8,
   "metadata": {},
   "outputs": [
    {
     "data": {
      "text/plain": [
       "OrderedDict([('fantasy_content',\n",
       "              OrderedDict([('@xml:lang', 'en-US'),\n",
       "                           ('@yahoo:uri',\n",
       "                            'http://fantasysports.yahooapis.com/fantasy/v2/game/nfl'),\n",
       "                           ('@time', '20.287990570068ms'),\n",
       "                           ('@copyright',\n",
       "                            'Data provided by Yahoo! and STATS, LLC'),\n",
       "                           ('@refresh_rate', '60'),\n",
       "                           ('@xmlns:yahoo',\n",
       "                            'http://www.yahooapis.com/v1/base.rng'),\n",
       "                           ('@xmlns',\n",
       "                            'http://fantasysports.yahooapis.com/fantasy/v2/base.rng'),\n",
       "                           ('game',\n",
       "                            OrderedDict([('game_key', '399'),\n",
       "                                         ('game_id', '399'),\n",
       "                                         ('name', 'Football'),\n",
       "                                         ('code', 'nfl'),\n",
       "                                         ('type', 'full'),\n",
       "                                         ('url',\n",
       "                                          'https://football.fantasysports.yahoo.com/f1'),\n",
       "                                         ('season', '2020'),\n",
       "                                         ('is_registration_over', '0'),\n",
       "                                         ('is_game_over', '0'),\n",
       "                                         ('is_offseason', '0'),\n",
       "                                         ('is_live_draft_lobby_active',\n",
       "                                          '1')]))]))])"
      ]
     },
     "execution_count": 8,
     "metadata": {},
     "output_type": "execute_result"
    }
   ],
   "source": [
    "game_url = 'https://fantasysports.yahooapis.com/fantasy/v2/game/nfl'\n",
    "r = oauth.session.get(game_url)\n",
    "xmltodict.parse(r.content)"
   ]
  }
 ],
 "metadata": {
  "kernelspec": {
   "display_name": "Python 3",
   "language": "python",
   "name": "python3"
  },
  "language_info": {
   "codemirror_mode": {
    "name": "ipython",
    "version": 3
   },
   "file_extension": ".py",
   "mimetype": "text/x-python",
   "name": "python",
   "nbconvert_exporter": "python",
   "pygments_lexer": "ipython3",
   "version": "3.8.3"
  }
 },
 "nbformat": 4,
 "nbformat_minor": 2
}
